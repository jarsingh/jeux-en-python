{
 "cells": [
  {
   "cell_type": "markdown",
   "metadata": {},
   "source": [
    "## La barre oblique"
   ]
  },
  {
   "cell_type": "code",
   "execution_count": null,
   "metadata": {},
   "outputs": [
    {
     "name": "stdout",
     "output_type": "stream",
     "text": [
      "Voici comment afficher \\ une barre obliaque inverse.\n"
     ]
    }
   ],
   "source": [
    "print('Voici comment afficher \\\\ une barre oblique inverse.')"
   ]
  },
  {
   "cell_type": "markdown",
   "metadata": {},
   "source": [
    "**Sequences d'échappement les plus courantes**\n",
    "\n",
    "| Caractère d'échappement | Ce qui s'affiche |\n",
    "| -------- | ------- |\n",
    "| \\\\\\  | Barre oblique inverse |\n",
    "| \\\\' | Guillemet simple |\n",
    "| \\\\\" | Guillemet double |\n",
    "| \\\\n | Retour à la ligne |\n",
    "| \\t | Tabulation"
   ]
  }
 ],
 "metadata": {
  "kernelspec": {
   "display_name": "jeux-en-python",
   "language": "python",
   "name": "python3"
  },
  "language_info": {
   "codemirror_mode": {
    "name": "ipython",
    "version": 3
   },
   "file_extension": ".py",
   "mimetype": "text/x-python",
   "name": "python",
   "nbconvert_exporter": "python",
   "pygments_lexer": "ipython3",
   "version": "3.13.0"
  }
 },
 "nbformat": 4,
 "nbformat_minor": 2
}
