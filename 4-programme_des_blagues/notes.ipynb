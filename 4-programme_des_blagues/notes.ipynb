{
 "cells": [
  {
   "cell_type": "markdown",
   "metadata": {},
   "source": [
    "## Notes"
   ]
  },
  {
   "cell_type": "code",
   "execution_count": null,
   "metadata": {},
   "outputs": [
    {
     "name": "stdout",
     "output_type": "stream",
     "text": [
      "Voici comment afficher \\ une barre oblique inverse.\n",
      "Voici comment afficher \\ une barre oblique inverse.\n"
     ]
    }
   ],
   "source": [
    "#Soit simples, soit doubles, les deux lignes suivantes affichent la meme chose :\n",
    "print('Voici comment afficher \\\\ une barre oblique inverse.')\n",
    "print(\"Voici comment afficher \\\\ une barre oblique inverse.\")"
   ]
  },
  {
   "cell_type": "code",
   "execution_count": null,
   "metadata": {},
   "outputs": [],
   "source": [
    "# Il n'est pas possible de mélanger les guillemets pour une même chaîne de caractères.\n",
    "print('Bonjour tout le monde\")"
   ]
  },
  {
   "cell_type": "code",
   "execution_count": 3,
   "metadata": {},
   "outputs": [
    {
     "name": "stdout",
     "output_type": "stream",
     "text": [
      "J'ai demandé si je pouvais m'asseoir. On m'a r&pondu \"Bien sûr.\"\n",
      "Elle dit : \"Je ne peux pas croire que tu l'aies laissé emprunter ta voiture\".\n"
     ]
    }
   ],
   "source": [
    "# L'interpréteur de Python est suffisamment intelligent pour comprendre que, si une chaîne de caractères démarre avec un type de guillemets, l'autre type n'indique pas la fin\n",
    "\n",
    "print('J\\'ai demandé si je pouvais m\\'asseoir. On m\\'a r&pondu \"Bien sûr.\"')\n",
    "print(\"Elle dit : \\\"Je ne peux pas croire que tu l'aies laissé emprunter ta voiture\\\".\")"
   ]
  },
  {
   "cell_type": "markdown",
   "metadata": {},
   "source": [
    "**Sequences d'échappement les plus courantes**\n",
    "\n",
    "| Caractère d'échappement | Ce qui s'affiche |\n",
    "| -------- | ------- |\n",
    "| \\\\\\  | Barre oblique inverse |\n",
    "| \\\\' | Guillemet simple |\n",
    "| \\\\\" | Guillemet double |\n",
    "| \\\\n | Retour à la ligne |\n",
    "| \\t | Tabulation"
   ]
  },
  {
   "cell_type": "markdown",
   "metadata": {},
   "source": [
    "### En résumé"
   ]
  },
  {
   "cell_type": "markdown",
   "metadata": {},
   "source": [
    "Ce chapitre explore les différentes utilisations de la fonction `print()`. Le caractère d'échappement (barre oblique inverse) modifie l'interprétation du caractère suivant et sert à créer des combinaisons désignant certains caractères spéciaux, comme le retour à la ligne `\\n` ou la tabulation `\\t`.\n",
    "\n",
    "La fonction `print()` ajoute automatiquement un retour à la ligne à la fin d'une chaîne de caractères. Généralement, il s'agit d'une configuration qui convient, mais il arrive que l'on ne souhaite pas ce comportement. Pour régler cela, vous pouvez passer une chaîne vide en tant qu'argument clavier pour la fonction `print()`."
   ]
  }
 ],
 "metadata": {
  "kernelspec": {
   "display_name": "jeux-en-python",
   "language": "python",
   "name": "python3"
  },
  "language_info": {
   "codemirror_mode": {
    "name": "ipython",
    "version": 3
   },
   "file_extension": ".py",
   "mimetype": "text/x-python",
   "name": "python",
   "nbconvert_exporter": "python",
   "pygments_lexer": "ipython3",
   "version": "3.13.0"
  }
 },
 "nbformat": 4,
 "nbformat_minor": 2
}
